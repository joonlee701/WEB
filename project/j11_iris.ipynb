{
 "cells": [
  {
   "cell_type": "markdown",
   "metadata": {},
   "source": [
    "# Iris 분류"
   ]
  },
  {
   "cell_type": "code",
   "execution_count": 1,
   "metadata": {},
   "outputs": [],
   "source": [
    "import numpy as np\n",
    "import pandas as pd\n",
    "import warnings\n",
    "warnings.filterwarnings('ignore')"
   ]
  },
  {
   "cell_type": "code",
   "execution_count": 2,
   "metadata": {},
   "outputs": [],
   "source": [
    "from sklearn.datasets import load_iris\n",
    "iris = load_iris()"
   ]
  },
  {
   "cell_type": "code",
   "execution_count": 3,
   "metadata": {},
   "outputs": [
    {
     "data": {
      "text/html": [
       "<div>\n",
       "<style scoped>\n",
       "    .dataframe tbody tr th:only-of-type {\n",
       "        vertical-align: middle;\n",
       "    }\n",
       "\n",
       "    .dataframe tbody tr th {\n",
       "        vertical-align: top;\n",
       "    }\n",
       "\n",
       "    .dataframe thead th {\n",
       "        text-align: right;\n",
       "    }\n",
       "</style>\n",
       "<table border=\"1\" class=\"dataframe\">\n",
       "  <thead>\n",
       "    <tr style=\"text-align: right;\">\n",
       "      <th></th>\n",
       "      <th>sepal length (cm)</th>\n",
       "      <th>sepal width (cm)</th>\n",
       "      <th>petal length (cm)</th>\n",
       "      <th>petal width (cm)</th>\n",
       "    </tr>\n",
       "  </thead>\n",
       "  <tbody>\n",
       "    <tr>\n",
       "      <th>0</th>\n",
       "      <td>5.1</td>\n",
       "      <td>3.5</td>\n",
       "      <td>1.4</td>\n",
       "      <td>0.2</td>\n",
       "    </tr>\n",
       "    <tr>\n",
       "      <th>1</th>\n",
       "      <td>4.9</td>\n",
       "      <td>3.0</td>\n",
       "      <td>1.4</td>\n",
       "      <td>0.2</td>\n",
       "    </tr>\n",
       "    <tr>\n",
       "      <th>2</th>\n",
       "      <td>4.7</td>\n",
       "      <td>3.2</td>\n",
       "      <td>1.3</td>\n",
       "      <td>0.2</td>\n",
       "    </tr>\n",
       "    <tr>\n",
       "      <th>3</th>\n",
       "      <td>4.6</td>\n",
       "      <td>3.1</td>\n",
       "      <td>1.5</td>\n",
       "      <td>0.2</td>\n",
       "    </tr>\n",
       "    <tr>\n",
       "      <th>4</th>\n",
       "      <td>5.0</td>\n",
       "      <td>3.6</td>\n",
       "      <td>1.4</td>\n",
       "      <td>0.2</td>\n",
       "    </tr>\n",
       "  </tbody>\n",
       "</table>\n",
       "</div>"
      ],
      "text/plain": [
       "   sepal length (cm)  sepal width (cm)  petal length (cm)  petal width (cm)\n",
       "0                5.1               3.5                1.4               0.2\n",
       "1                4.9               3.0                1.4               0.2\n",
       "2                4.7               3.2                1.3               0.2\n",
       "3                4.6               3.1                1.5               0.2\n",
       "4                5.0               3.6                1.4               0.2"
      ]
     },
     "execution_count": 3,
     "metadata": {},
     "output_type": "execute_result"
    }
   ],
   "source": [
    "# data, target, target_names, feature_names, DESCR\n",
    "data = iris.data\n",
    "label = iris.target\n",
    "columns = iris.feature_names\n",
    "df = pd.DataFrame(data, columns=columns)\n",
    "df.head()"
   ]
  },
  {
   "cell_type": "code",
   "execution_count": 4,
   "metadata": {},
   "outputs": [],
   "source": [
    "from sklearn.model_selection import train_test_split\n",
    "x_train, x_test, y_train, y_test = \\\n",
    "    train_test_split(data, label, test_size=0.2, \n",
    "                     shuffle=True, stratify=label, random_state=2019)"
   ]
  },
  {
   "cell_type": "markdown",
   "metadata": {},
   "source": [
    "### Logistic Regression"
   ]
  },
  {
   "cell_type": "markdown",
   "metadata": {},
   "source": [
    "- 모델 객체 생성"
   ]
  },
  {
   "cell_type": "code",
   "execution_count": 5,
   "metadata": {},
   "outputs": [],
   "source": [
    "from sklearn.linear_model import LogisticRegression\n",
    "lr = LogisticRegression(verbose=1)"
   ]
  },
  {
   "cell_type": "markdown",
   "metadata": {},
   "source": [
    "- 모델 학습"
   ]
  },
  {
   "cell_type": "code",
   "execution_count": 6,
   "metadata": {},
   "outputs": [
    {
     "name": "stderr",
     "output_type": "stream",
     "text": [
      "[Parallel(n_jobs=1)]: Using backend SequentialBackend with 1 concurrent workers.\n",
      "[Parallel(n_jobs=1)]: Done   1 out of   1 | elapsed:    0.0s finished\n"
     ]
    },
    {
     "data": {
      "text/plain": [
       "LogisticRegression(verbose=1)"
      ]
     },
     "execution_count": 6,
     "metadata": {},
     "output_type": "execute_result"
    }
   ],
   "source": [
    "lr.fit(x_train, y_train)"
   ]
  },
  {
   "cell_type": "markdown",
   "metadata": {},
   "source": [
    "- 학습한 결과를 저장"
   ]
  },
  {
   "cell_type": "code",
   "execution_count": 7,
   "metadata": {},
   "outputs": [
    {
     "data": {
      "text/plain": [
       "['model/iris_lr.pkl']"
      ]
     },
     "execution_count": 7,
     "metadata": {},
     "output_type": "execute_result"
    }
   ],
   "source": [
    "import joblib\n",
    "joblib.dump(lr, 'model/iris_lr.pkl')"
   ]
  },
  {
   "cell_type": "markdown",
   "metadata": {},
   "source": [
    "### Support Vector Machine"
   ]
  },
  {
   "cell_type": "code",
   "execution_count": 8,
   "metadata": {},
   "outputs": [],
   "source": [
    "from sklearn.svm import SVC\n",
    "svc = SVC()"
   ]
  },
  {
   "cell_type": "code",
   "execution_count": 9,
   "metadata": {},
   "outputs": [
    {
     "data": {
      "text/plain": [
       "SVC()"
      ]
     },
     "execution_count": 9,
     "metadata": {},
     "output_type": "execute_result"
    }
   ],
   "source": [
    "svc.fit(x_train, y_train)"
   ]
  },
  {
   "cell_type": "code",
   "execution_count": 10,
   "metadata": {},
   "outputs": [
    {
     "data": {
      "text/plain": [
       "['model/iris_svm.pkl']"
      ]
     },
     "execution_count": 10,
     "metadata": {},
     "output_type": "execute_result"
    }
   ],
   "source": [
    "joblib.dump(svc, 'model/iris_svm.pkl')"
   ]
  },
  {
   "cell_type": "markdown",
   "metadata": {},
   "source": [
    "### Decision Tree"
   ]
  },
  {
   "cell_type": "code",
   "execution_count": 11,
   "metadata": {},
   "outputs": [],
   "source": [
    "from sklearn.tree import DecisionTreeClassifier\n",
    "dtc = DecisionTreeClassifier()"
   ]
  },
  {
   "cell_type": "code",
   "execution_count": 12,
   "metadata": {},
   "outputs": [
    {
     "data": {
      "text/plain": [
       "DecisionTreeClassifier()"
      ]
     },
     "execution_count": 12,
     "metadata": {},
     "output_type": "execute_result"
    }
   ],
   "source": [
    "dtc.fit(x_train, y_train)"
   ]
  },
  {
   "cell_type": "code",
   "execution_count": 13,
   "metadata": {},
   "outputs": [
    {
     "data": {
      "text/plain": [
       "['model/iris_dt.pkl']"
      ]
     },
     "execution_count": 13,
     "metadata": {},
     "output_type": "execute_result"
    }
   ],
   "source": [
    "joblib.dump(dtc, 'model/iris_dt.pkl')"
   ]
  },
  {
   "cell_type": "markdown",
   "metadata": {},
   "source": [
    "### 저장된 모델로 정확도 산출"
   ]
  },
  {
   "cell_type": "code",
   "execution_count": 14,
   "metadata": {},
   "outputs": [],
   "source": [
    "model_lr = joblib.load('model/iris_lr.pkl')\n",
    "model_svm = joblib.load('model/iris_svm.pkl')\n",
    "model_dt = joblib.load('model/iris_dt.pkl')"
   ]
  },
  {
   "cell_type": "code",
   "execution_count": 15,
   "metadata": {},
   "outputs": [],
   "source": [
    "y_pred_lr = model_lr.predict(x_test)\n",
    "y_pred_svm = model_svm.predict(x_test)\n",
    "y_pred_dt = model_dt.predict(x_test)"
   ]
  },
  {
   "cell_type": "code",
   "execution_count": 16,
   "metadata": {},
   "outputs": [
    {
     "name": "stdout",
     "output_type": "stream",
     "text": [
      "0.9666666666666667 0.9666666666666667 0.9666666666666667\n"
     ]
    }
   ],
   "source": [
    "from sklearn.metrics import accuracy_score\n",
    "acc_lr = accuracy_score(y_test, y_pred_lr)\n",
    "acc_svm = accuracy_score(y_test, y_pred_svm)\n",
    "acc_dt = accuracy_score(y_test, y_pred_dt)\n",
    "print(acc_lr, acc_svm, acc_dt)"
   ]
  },
  {
   "cell_type": "markdown",
   "metadata": {},
   "source": [
    "### 한개의 테스트 값 예측"
   ]
  },
  {
   "cell_type": "code",
   "execution_count": 17,
   "metadata": {},
   "outputs": [
    {
     "data": {
      "text/html": [
       "<div>\n",
       "<style scoped>\n",
       "    .dataframe tbody tr th:only-of-type {\n",
       "        vertical-align: middle;\n",
       "    }\n",
       "\n",
       "    .dataframe tbody tr th {\n",
       "        vertical-align: top;\n",
       "    }\n",
       "\n",
       "    .dataframe thead th {\n",
       "        text-align: right;\n",
       "    }\n",
       "</style>\n",
       "<table border=\"1\" class=\"dataframe\">\n",
       "  <thead>\n",
       "    <tr style=\"text-align: right;\">\n",
       "      <th></th>\n",
       "      <th>sepal length (cm)</th>\n",
       "      <th>sepal width (cm)</th>\n",
       "      <th>petal length (cm)</th>\n",
       "      <th>petal width (cm)</th>\n",
       "    </tr>\n",
       "  </thead>\n",
       "  <tbody>\n",
       "    <tr>\n",
       "      <th>145</th>\n",
       "      <td>6.7</td>\n",
       "      <td>3.0</td>\n",
       "      <td>5.2</td>\n",
       "      <td>2.3</td>\n",
       "    </tr>\n",
       "    <tr>\n",
       "      <th>146</th>\n",
       "      <td>6.3</td>\n",
       "      <td>2.5</td>\n",
       "      <td>5.0</td>\n",
       "      <td>1.9</td>\n",
       "    </tr>\n",
       "    <tr>\n",
       "      <th>147</th>\n",
       "      <td>6.5</td>\n",
       "      <td>3.0</td>\n",
       "      <td>5.2</td>\n",
       "      <td>2.0</td>\n",
       "    </tr>\n",
       "    <tr>\n",
       "      <th>148</th>\n",
       "      <td>6.2</td>\n",
       "      <td>3.4</td>\n",
       "      <td>5.4</td>\n",
       "      <td>2.3</td>\n",
       "    </tr>\n",
       "    <tr>\n",
       "      <th>149</th>\n",
       "      <td>5.9</td>\n",
       "      <td>3.0</td>\n",
       "      <td>5.1</td>\n",
       "      <td>1.8</td>\n",
       "    </tr>\n",
       "  </tbody>\n",
       "</table>\n",
       "</div>"
      ],
      "text/plain": [
       "     sepal length (cm)  sepal width (cm)  petal length (cm)  petal width (cm)\n",
       "145                6.7               3.0                5.2               2.3\n",
       "146                6.3               2.5                5.0               1.9\n",
       "147                6.5               3.0                5.2               2.0\n",
       "148                6.2               3.4                5.4               2.3\n",
       "149                5.9               3.0                5.1               1.8"
      ]
     },
     "execution_count": 17,
     "metadata": {},
     "output_type": "execute_result"
    }
   ],
   "source": [
    "df.tail()"
   ]
  },
  {
   "cell_type": "code",
   "execution_count": 18,
   "metadata": {},
   "outputs": [],
   "source": [
    "test_data = np.array([6.7, 3.0, 5.2, 2.3]).reshape(1, 4)"
   ]
  },
  {
   "cell_type": "code",
   "execution_count": 19,
   "metadata": {},
   "outputs": [],
   "source": [
    "index_lr = model_lr.predict(test_data)[0]\n",
    "index_svm = model_svm.predict(test_data)[0]\n",
    "index_dt = model_dt.predict(test_data)[0]"
   ]
  },
  {
   "cell_type": "code",
   "execution_count": 20,
   "metadata": {},
   "outputs": [
    {
     "name": "stdout",
     "output_type": "stream",
     "text": [
      "Virginica Virginica Virginica\n"
     ]
    }
   ],
   "source": [
    "sp_names = ['Setosa', 'Versicolor', 'Virginica']\n",
    "print(sp_names[index_lr], sp_names[index_svm], sp_names[index_dt])"
   ]
  },
  {
   "cell_type": "markdown",
   "metadata": {},
   "source": [
    "## Deep Learning Model"
   ]
  },
  {
   "cell_type": "code",
   "execution_count": 21,
   "metadata": {},
   "outputs": [
    {
     "name": "stdout",
     "output_type": "stream",
     "text": [
      "Model: \"sequential_1\"\n",
      "_________________________________________________________________\n",
      "Layer (type)                 Output Shape              Param #   \n",
      "=================================================================\n",
      "dense_1 (Dense)              (None, 12)                60        \n",
      "_________________________________________________________________\n",
      "dense_2 (Dense)              (None, 8)                 104       \n",
      "_________________________________________________________________\n",
      "dense_3 (Dense)              (None, 3)                 27        \n",
      "=================================================================\n",
      "Total params: 191\n",
      "Trainable params: 191\n",
      "Non-trainable params: 0\n",
      "_________________________________________________________________\n"
     ]
    },
    {
     "name": "stderr",
     "output_type": "stream",
     "text": [
      "Using TensorFlow backend.\n"
     ]
    }
   ],
   "source": [
    "# 딥러닝 모델 설정\n",
    "from tensorflow import keras\n",
    "from keras.models import Sequential\n",
    "from keras.layers import Dense\n",
    "\n",
    "model = Sequential([\n",
    "    Dense(12, input_shape=(4,), activation='relu'),\n",
    "    Dense(8, input_shape=(4,), activation='relu'),\n",
    "    Dense(3, activation='softmax')\n",
    "])\n",
    "model.summary()"
   ]
  },
  {
   "cell_type": "code",
   "execution_count": 22,
   "metadata": {},
   "outputs": [],
   "source": [
    "# 모델 컴파일 \n",
    "model.compile(loss='categorical_crossentropy', \n",
    "              optimizer='adam',\n",
    "              metrics=['accuracy'])"
   ]
  },
  {
   "cell_type": "code",
   "execution_count": 23,
   "metadata": {},
   "outputs": [],
   "source": [
    "from keras.callbacks import ModelCheckpoint\n",
    "checkpointer = ModelCheckpoint(filepath=\"model/iris_deep.hdf5\", \n",
    "                               monitor='val_loss', \n",
    "                               verbose=1, save_best_only=True)"
   ]
  },
  {
   "cell_type": "code",
   "execution_count": 24,
   "metadata": {},
   "outputs": [
    {
     "data": {
      "text/plain": [
       "(array([1., 0., 0.], dtype=float32),\n",
       " array([0., 0., 1.], dtype=float32),\n",
       " array([0., 0., 1.], dtype=float32))"
      ]
     },
     "execution_count": 24,
     "metadata": {},
     "output_type": "execute_result"
    }
   ],
   "source": [
    "# One hot encoding\n",
    "Y_encoded = keras.utils.to_categorical(y_train)\n",
    "Y_encoded[0], Y_encoded[50], Y_encoded[100]"
   ]
  },
  {
   "cell_type": "code",
   "execution_count": 25,
   "metadata": {},
   "outputs": [
    {
     "name": "stdout",
     "output_type": "stream",
     "text": [
      "Train on 96 samples, validate on 24 samples\n",
      "Epoch 1/100\n",
      " - 0s - loss: 1.1269 - accuracy: 0.3125 - val_loss: 0.9628 - val_accuracy: 0.4167\n",
      "\n",
      "Epoch 00001: val_loss improved from inf to 0.96283, saving model to model/iris_deep.hdf5\n",
      "Epoch 2/100\n",
      " - 0s - loss: 1.0713 - accuracy: 0.3125 - val_loss: 0.9357 - val_accuracy: 0.5833\n",
      "\n",
      "Epoch 00002: val_loss improved from 0.96283 to 0.93565, saving model to model/iris_deep.hdf5\n",
      "Epoch 3/100\n",
      " - 0s - loss: 1.0303 - accuracy: 0.5417 - val_loss: 0.9161 - val_accuracy: 0.7083\n",
      "\n",
      "Epoch 00003: val_loss improved from 0.93565 to 0.91614, saving model to model/iris_deep.hdf5\n",
      "Epoch 4/100\n",
      " - 0s - loss: 0.9990 - accuracy: 0.6458 - val_loss: 0.9046 - val_accuracy: 0.7083\n",
      "\n",
      "Epoch 00004: val_loss improved from 0.91614 to 0.90463, saving model to model/iris_deep.hdf5\n",
      "Epoch 5/100\n",
      " - 0s - loss: 0.9780 - accuracy: 0.6562 - val_loss: 0.8919 - val_accuracy: 0.7083\n",
      "\n",
      "Epoch 00005: val_loss improved from 0.90463 to 0.89186, saving model to model/iris_deep.hdf5\n",
      "Epoch 6/100\n",
      " - 0s - loss: 0.9574 - accuracy: 0.6562 - val_loss: 0.8729 - val_accuracy: 0.7083\n",
      "\n",
      "Epoch 00006: val_loss improved from 0.89186 to 0.87285, saving model to model/iris_deep.hdf5\n",
      "Epoch 7/100\n",
      " - 0s - loss: 0.9308 - accuracy: 0.6562 - val_loss: 0.8559 - val_accuracy: 0.7083\n",
      "\n",
      "Epoch 00007: val_loss improved from 0.87285 to 0.85586, saving model to model/iris_deep.hdf5\n",
      "Epoch 8/100\n",
      " - 0s - loss: 0.9128 - accuracy: 0.6562 - val_loss: 0.8431 - val_accuracy: 0.7083\n",
      "\n",
      "Epoch 00008: val_loss improved from 0.85586 to 0.84308, saving model to model/iris_deep.hdf5\n",
      "Epoch 9/100\n",
      " - 0s - loss: 0.8961 - accuracy: 0.6562 - val_loss: 0.8321 - val_accuracy: 0.7083\n",
      "\n",
      "Epoch 00009: val_loss improved from 0.84308 to 0.83209, saving model to model/iris_deep.hdf5\n",
      "Epoch 10/100\n",
      " - 0s - loss: 0.8805 - accuracy: 0.6562 - val_loss: 0.8225 - val_accuracy: 0.7083\n",
      "\n",
      "Epoch 00010: val_loss improved from 0.83209 to 0.82254, saving model to model/iris_deep.hdf5\n",
      "Epoch 11/100\n",
      " - 0s - loss: 0.8694 - accuracy: 0.6562 - val_loss: 0.8171 - val_accuracy: 0.7083\n",
      "\n",
      "Epoch 00011: val_loss improved from 0.82254 to 0.81707, saving model to model/iris_deep.hdf5\n",
      "Epoch 12/100\n",
      " - 0s - loss: 0.8621 - accuracy: 0.6562 - val_loss: 0.8075 - val_accuracy: 0.7083\n",
      "\n",
      "Epoch 00012: val_loss improved from 0.81707 to 0.80754, saving model to model/iris_deep.hdf5\n",
      "Epoch 13/100\n",
      " - 0s - loss: 0.8527 - accuracy: 0.6562 - val_loss: 0.7943 - val_accuracy: 0.7083\n",
      "\n",
      "Epoch 00013: val_loss improved from 0.80754 to 0.79434, saving model to model/iris_deep.hdf5\n",
      "Epoch 14/100\n",
      " - 0s - loss: 0.8410 - accuracy: 0.6562 - val_loss: 0.7816 - val_accuracy: 0.7083\n",
      "\n",
      "Epoch 00014: val_loss improved from 0.79434 to 0.78160, saving model to model/iris_deep.hdf5\n",
      "Epoch 15/100\n",
      " - 0s - loss: 0.8299 - accuracy: 0.6562 - val_loss: 0.7693 - val_accuracy: 0.7083\n",
      "\n",
      "Epoch 00015: val_loss improved from 0.78160 to 0.76934, saving model to model/iris_deep.hdf5\n",
      "Epoch 16/100\n",
      " - 0s - loss: 0.8195 - accuracy: 0.6562 - val_loss: 0.7579 - val_accuracy: 0.7083\n",
      "\n",
      "Epoch 00016: val_loss improved from 0.76934 to 0.75786, saving model to model/iris_deep.hdf5\n",
      "Epoch 17/100\n",
      " - 0s - loss: 0.8105 - accuracy: 0.6562 - val_loss: 0.7475 - val_accuracy: 0.7083\n",
      "\n",
      "Epoch 00017: val_loss improved from 0.75786 to 0.74750, saving model to model/iris_deep.hdf5\n",
      "Epoch 18/100\n",
      " - 0s - loss: 0.8010 - accuracy: 0.6562 - val_loss: 0.7387 - val_accuracy: 0.7083\n",
      "\n",
      "Epoch 00018: val_loss improved from 0.74750 to 0.73872, saving model to model/iris_deep.hdf5\n",
      "Epoch 19/100\n",
      " - 0s - loss: 0.7911 - accuracy: 0.6562 - val_loss: 0.7326 - val_accuracy: 0.7083\n",
      "\n",
      "Epoch 00019: val_loss improved from 0.73872 to 0.73258, saving model to model/iris_deep.hdf5\n",
      "Epoch 20/100\n",
      " - 0s - loss: 0.7823 - accuracy: 0.6562 - val_loss: 0.7246 - val_accuracy: 0.7083\n",
      "\n",
      "Epoch 00020: val_loss improved from 0.73258 to 0.72455, saving model to model/iris_deep.hdf5\n",
      "Epoch 21/100\n",
      " - 0s - loss: 0.7734 - accuracy: 0.6562 - val_loss: 0.7138 - val_accuracy: 0.7083\n",
      "\n",
      "Epoch 00021: val_loss improved from 0.72455 to 0.71381, saving model to model/iris_deep.hdf5\n",
      "Epoch 22/100\n",
      " - 0s - loss: 0.7631 - accuracy: 0.6562 - val_loss: 0.7028 - val_accuracy: 0.7083\n",
      "\n",
      "Epoch 00022: val_loss improved from 0.71381 to 0.70280, saving model to model/iris_deep.hdf5\n",
      "Epoch 23/100\n",
      " - 0s - loss: 0.7538 - accuracy: 0.6562 - val_loss: 0.6939 - val_accuracy: 0.7083\n",
      "\n",
      "Epoch 00023: val_loss improved from 0.70280 to 0.69392, saving model to model/iris_deep.hdf5\n",
      "Epoch 24/100\n",
      " - 0s - loss: 0.7461 - accuracy: 0.6562 - val_loss: 0.6858 - val_accuracy: 0.7083\n",
      "\n",
      "Epoch 00024: val_loss improved from 0.69392 to 0.68582, saving model to model/iris_deep.hdf5\n",
      "Epoch 25/100\n",
      " - 0s - loss: 0.7375 - accuracy: 0.6562 - val_loss: 0.6769 - val_accuracy: 0.7083\n",
      "\n",
      "Epoch 00025: val_loss improved from 0.68582 to 0.67687, saving model to model/iris_deep.hdf5\n",
      "Epoch 26/100\n",
      " - 0s - loss: 0.7267 - accuracy: 0.6562 - val_loss: 0.6670 - val_accuracy: 0.7083\n",
      "\n",
      "Epoch 00026: val_loss improved from 0.67687 to 0.66700, saving model to model/iris_deep.hdf5\n",
      "Epoch 27/100\n",
      " - 0s - loss: 0.7161 - accuracy: 0.6562 - val_loss: 0.6535 - val_accuracy: 0.7083\n",
      "\n",
      "Epoch 00027: val_loss improved from 0.66700 to 0.65353, saving model to model/iris_deep.hdf5\n",
      "Epoch 28/100\n",
      " - 0s - loss: 0.6984 - accuracy: 0.6562 - val_loss: 0.6328 - val_accuracy: 0.7083\n",
      "\n",
      "Epoch 00028: val_loss improved from 0.65353 to 0.63284, saving model to model/iris_deep.hdf5\n",
      "Epoch 29/100\n",
      " - 0s - loss: 0.6745 - accuracy: 0.6562 - val_loss: 0.6102 - val_accuracy: 0.7083\n",
      "\n",
      "Epoch 00029: val_loss improved from 0.63284 to 0.61024, saving model to model/iris_deep.hdf5\n",
      "Epoch 30/100\n",
      " - 0s - loss: 0.6473 - accuracy: 0.6562 - val_loss: 0.5895 - val_accuracy: 0.7083\n",
      "\n",
      "Epoch 00030: val_loss improved from 0.61024 to 0.58951, saving model to model/iris_deep.hdf5\n",
      "Epoch 31/100\n",
      " - 0s - loss: 0.6247 - accuracy: 0.6562 - val_loss: 0.5717 - val_accuracy: 0.7083\n",
      "\n",
      "Epoch 00031: val_loss improved from 0.58951 to 0.57175, saving model to model/iris_deep.hdf5\n",
      "Epoch 32/100\n",
      " - 0s - loss: 0.6032 - accuracy: 0.6562 - val_loss: 0.5562 - val_accuracy: 0.7083\n",
      "\n",
      "Epoch 00032: val_loss improved from 0.57175 to 0.55623, saving model to model/iris_deep.hdf5\n",
      "Epoch 33/100\n",
      " - 0s - loss: 0.5844 - accuracy: 0.6562 - val_loss: 0.5420 - val_accuracy: 0.7083\n",
      "\n",
      "Epoch 00033: val_loss improved from 0.55623 to 0.54200, saving model to model/iris_deep.hdf5\n",
      "Epoch 34/100\n",
      " - 0s - loss: 0.5685 - accuracy: 0.6562 - val_loss: 0.5285 - val_accuracy: 0.7083\n",
      "\n",
      "Epoch 00034: val_loss improved from 0.54200 to 0.52853, saving model to model/iris_deep.hdf5\n",
      "Epoch 35/100\n",
      " - 0s - loss: 0.5547 - accuracy: 0.6562 - val_loss: 0.5163 - val_accuracy: 0.7083\n",
      "\n",
      "Epoch 00035: val_loss improved from 0.52853 to 0.51627, saving model to model/iris_deep.hdf5\n",
      "Epoch 36/100\n",
      " - 0s - loss: 0.5442 - accuracy: 0.6562 - val_loss: 0.5070 - val_accuracy: 0.7083\n",
      "\n",
      "Epoch 00036: val_loss improved from 0.51627 to 0.50701, saving model to model/iris_deep.hdf5\n",
      "Epoch 37/100\n",
      " - 0s - loss: 0.5356 - accuracy: 0.6562 - val_loss: 0.4996 - val_accuracy: 0.7083\n",
      "\n",
      "Epoch 00037: val_loss improved from 0.50701 to 0.49958, saving model to model/iris_deep.hdf5\n",
      "Epoch 38/100\n",
      " - 0s - loss: 0.5275 - accuracy: 0.6562 - val_loss: 0.4949 - val_accuracy: 0.7083\n",
      "\n",
      "Epoch 00038: val_loss improved from 0.49958 to 0.49486, saving model to model/iris_deep.hdf5\n",
      "Epoch 39/100\n",
      " - 0s - loss: 0.5206 - accuracy: 0.6562 - val_loss: 0.4898 - val_accuracy: 0.7083\n",
      "\n",
      "Epoch 00039: val_loss improved from 0.49486 to 0.48981, saving model to model/iris_deep.hdf5\n",
      "Epoch 40/100\n",
      " - 0s - loss: 0.5148 - accuracy: 0.6562 - val_loss: 0.4854 - val_accuracy: 0.7083\n",
      "\n",
      "Epoch 00040: val_loss improved from 0.48981 to 0.48536, saving model to model/iris_deep.hdf5\n",
      "Epoch 41/100\n",
      " - 0s - loss: 0.5096 - accuracy: 0.6562 - val_loss: 0.4816 - val_accuracy: 0.7083\n",
      "\n",
      "Epoch 00041: val_loss improved from 0.48536 to 0.48164, saving model to model/iris_deep.hdf5\n",
      "Epoch 42/100\n",
      " - 0s - loss: 0.5055 - accuracy: 0.6562 - val_loss: 0.4780 - val_accuracy: 0.7083\n",
      "\n",
      "Epoch 00042: val_loss improved from 0.48164 to 0.47804, saving model to model/iris_deep.hdf5\n",
      "Epoch 43/100\n",
      " - 0s - loss: 0.5015 - accuracy: 0.6562 - val_loss: 0.4737 - val_accuracy: 0.7083\n",
      "\n",
      "Epoch 00043: val_loss improved from 0.47804 to 0.47371, saving model to model/iris_deep.hdf5\n",
      "Epoch 44/100\n",
      " - 0s - loss: 0.4979 - accuracy: 0.6562 - val_loss: 0.4706 - val_accuracy: 0.7083\n"
     ]
    },
    {
     "name": "stdout",
     "output_type": "stream",
     "text": [
      "\n",
      "Epoch 00044: val_loss improved from 0.47371 to 0.47059, saving model to model/iris_deep.hdf5\n",
      "Epoch 45/100\n",
      " - 0s - loss: 0.4942 - accuracy: 0.6562 - val_loss: 0.4670 - val_accuracy: 0.7083\n",
      "\n",
      "Epoch 00045: val_loss improved from 0.47059 to 0.46702, saving model to model/iris_deep.hdf5\n",
      "Epoch 46/100\n",
      " - 0s - loss: 0.4908 - accuracy: 0.6562 - val_loss: 0.4638 - val_accuracy: 0.7083\n",
      "\n",
      "Epoch 00046: val_loss improved from 0.46702 to 0.46376, saving model to model/iris_deep.hdf5\n",
      "Epoch 47/100\n",
      " - 0s - loss: 0.4875 - accuracy: 0.6562 - val_loss: 0.4608 - val_accuracy: 0.7083\n",
      "\n",
      "Epoch 00047: val_loss improved from 0.46376 to 0.46076, saving model to model/iris_deep.hdf5\n",
      "Epoch 48/100\n",
      " - 0s - loss: 0.4837 - accuracy: 0.6562 - val_loss: 0.4604 - val_accuracy: 0.7083\n",
      "\n",
      "Epoch 00048: val_loss improved from 0.46076 to 0.46038, saving model to model/iris_deep.hdf5\n",
      "Epoch 49/100\n",
      " - 0s - loss: 0.4804 - accuracy: 0.6562 - val_loss: 0.4594 - val_accuracy: 0.7083\n",
      "\n",
      "Epoch 00049: val_loss improved from 0.46038 to 0.45943, saving model to model/iris_deep.hdf5\n",
      "Epoch 50/100\n",
      " - 0s - loss: 0.4781 - accuracy: 0.6562 - val_loss: 0.4570 - val_accuracy: 0.7083\n",
      "\n",
      "Epoch 00050: val_loss improved from 0.45943 to 0.45697, saving model to model/iris_deep.hdf5\n",
      "Epoch 51/100\n",
      " - 0s - loss: 0.4750 - accuracy: 0.6562 - val_loss: 0.4543 - val_accuracy: 0.7083\n",
      "\n",
      "Epoch 00051: val_loss improved from 0.45697 to 0.45430, saving model to model/iris_deep.hdf5\n",
      "Epoch 52/100\n",
      " - 0s - loss: 0.4706 - accuracy: 0.6562 - val_loss: 0.4504 - val_accuracy: 0.7500\n",
      "\n",
      "Epoch 00052: val_loss improved from 0.45430 to 0.45043, saving model to model/iris_deep.hdf5\n",
      "Epoch 53/100\n",
      " - 0s - loss: 0.4666 - accuracy: 0.6667 - val_loss: 0.4454 - val_accuracy: 0.7917\n",
      "\n",
      "Epoch 00053: val_loss improved from 0.45043 to 0.44543, saving model to model/iris_deep.hdf5\n",
      "Epoch 54/100\n",
      " - 0s - loss: 0.4615 - accuracy: 0.6667 - val_loss: 0.4435 - val_accuracy: 0.7917\n",
      "\n",
      "Epoch 00054: val_loss improved from 0.44543 to 0.44355, saving model to model/iris_deep.hdf5\n",
      "Epoch 55/100\n",
      " - 0s - loss: 0.4571 - accuracy: 0.6771 - val_loss: 0.4409 - val_accuracy: 0.7917\n",
      "\n",
      "Epoch 00055: val_loss improved from 0.44355 to 0.44094, saving model to model/iris_deep.hdf5\n",
      "Epoch 56/100\n",
      " - 0s - loss: 0.4527 - accuracy: 0.7083 - val_loss: 0.4370 - val_accuracy: 0.8333\n",
      "\n",
      "Epoch 00056: val_loss improved from 0.44094 to 0.43699, saving model to model/iris_deep.hdf5\n",
      "Epoch 57/100\n",
      " - 0s - loss: 0.4481 - accuracy: 0.7083 - val_loss: 0.4305 - val_accuracy: 0.8333\n",
      "\n",
      "Epoch 00057: val_loss improved from 0.43699 to 0.43046, saving model to model/iris_deep.hdf5\n",
      "Epoch 58/100\n",
      " - 0s - loss: 0.4423 - accuracy: 0.7500 - val_loss: 0.4230 - val_accuracy: 0.8333\n",
      "\n",
      "Epoch 00058: val_loss improved from 0.43046 to 0.42304, saving model to model/iris_deep.hdf5\n",
      "Epoch 59/100\n",
      " - 0s - loss: 0.4377 - accuracy: 0.7604 - val_loss: 0.4173 - val_accuracy: 0.8333\n",
      "\n",
      "Epoch 00059: val_loss improved from 0.42304 to 0.41728, saving model to model/iris_deep.hdf5\n",
      "Epoch 60/100\n",
      " - 0s - loss: 0.4334 - accuracy: 0.7604 - val_loss: 0.4116 - val_accuracy: 0.8333\n",
      "\n",
      "Epoch 00060: val_loss improved from 0.41728 to 0.41163, saving model to model/iris_deep.hdf5\n",
      "Epoch 61/100\n",
      " - 0s - loss: 0.4282 - accuracy: 0.7812 - val_loss: 0.4071 - val_accuracy: 0.8333\n",
      "\n",
      "Epoch 00061: val_loss improved from 0.41163 to 0.40709, saving model to model/iris_deep.hdf5\n",
      "Epoch 62/100\n",
      " - 0s - loss: 0.4230 - accuracy: 0.8229 - val_loss: 0.4048 - val_accuracy: 0.9167\n",
      "\n",
      "Epoch 00062: val_loss improved from 0.40709 to 0.40482, saving model to model/iris_deep.hdf5\n",
      "Epoch 63/100\n",
      " - 0s - loss: 0.4174 - accuracy: 0.8438 - val_loss: 0.3986 - val_accuracy: 1.0000\n",
      "\n",
      "Epoch 00063: val_loss improved from 0.40482 to 0.39858, saving model to model/iris_deep.hdf5\n",
      "Epoch 64/100\n",
      " - 0s - loss: 0.4126 - accuracy: 0.8438 - val_loss: 0.3932 - val_accuracy: 1.0000\n",
      "\n",
      "Epoch 00064: val_loss improved from 0.39858 to 0.39324, saving model to model/iris_deep.hdf5\n",
      "Epoch 65/100\n",
      " - 0s - loss: 0.4073 - accuracy: 0.8646 - val_loss: 0.3889 - val_accuracy: 1.0000\n",
      "\n",
      "Epoch 00065: val_loss improved from 0.39324 to 0.38887, saving model to model/iris_deep.hdf5\n",
      "Epoch 66/100\n",
      " - 0s - loss: 0.4027 - accuracy: 0.8854 - val_loss: 0.3839 - val_accuracy: 1.0000\n",
      "\n",
      "Epoch 00066: val_loss improved from 0.38887 to 0.38389, saving model to model/iris_deep.hdf5\n",
      "Epoch 67/100\n",
      " - 0s - loss: 0.3981 - accuracy: 0.8646 - val_loss: 0.3769 - val_accuracy: 1.0000\n",
      "\n",
      "Epoch 00067: val_loss improved from 0.38389 to 0.37690, saving model to model/iris_deep.hdf5\n",
      "Epoch 68/100\n",
      " - 0s - loss: 0.3936 - accuracy: 0.8750 - val_loss: 0.3735 - val_accuracy: 1.0000\n",
      "\n",
      "Epoch 00068: val_loss improved from 0.37690 to 0.37349, saving model to model/iris_deep.hdf5\n",
      "Epoch 69/100\n",
      " - 0s - loss: 0.3897 - accuracy: 0.9167 - val_loss: 0.3761 - val_accuracy: 1.0000\n",
      "\n",
      "Epoch 00069: val_loss did not improve from 0.37349\n",
      "Epoch 70/100\n",
      " - 0s - loss: 0.3854 - accuracy: 0.9479 - val_loss: 0.3778 - val_accuracy: 1.0000\n",
      "\n",
      "Epoch 00070: val_loss did not improve from 0.37349\n",
      "Epoch 71/100\n",
      " - 0s - loss: 0.3843 - accuracy: 0.9688 - val_loss: 0.3742 - val_accuracy: 1.0000\n",
      "\n",
      "Epoch 00071: val_loss did not improve from 0.37349\n",
      "Epoch 72/100\n",
      " - 0s - loss: 0.3769 - accuracy: 0.9688 - val_loss: 0.3642 - val_accuracy: 1.0000\n",
      "\n",
      "Epoch 00072: val_loss improved from 0.37349 to 0.36423, saving model to model/iris_deep.hdf5\n",
      "Epoch 73/100\n",
      " - 0s - loss: 0.3716 - accuracy: 0.9479 - val_loss: 0.3560 - val_accuracy: 1.0000\n",
      "\n",
      "Epoch 00073: val_loss improved from 0.36423 to 0.35596, saving model to model/iris_deep.hdf5\n",
      "Epoch 74/100\n",
      " - 0s - loss: 0.3671 - accuracy: 0.9479 - val_loss: 0.3480 - val_accuracy: 1.0000\n",
      "\n",
      "Epoch 00074: val_loss improved from 0.35596 to 0.34795, saving model to model/iris_deep.hdf5\n",
      "Epoch 75/100\n",
      " - 0s - loss: 0.3637 - accuracy: 0.9479 - val_loss: 0.3411 - val_accuracy: 1.0000\n",
      "\n",
      "Epoch 00075: val_loss improved from 0.34795 to 0.34111, saving model to model/iris_deep.hdf5\n",
      "Epoch 76/100\n",
      " - 0s - loss: 0.3592 - accuracy: 0.9479 - val_loss: 0.3396 - val_accuracy: 1.0000\n",
      "\n",
      "Epoch 00076: val_loss improved from 0.34111 to 0.33958, saving model to model/iris_deep.hdf5\n",
      "Epoch 77/100\n",
      " - 0s - loss: 0.3545 - accuracy: 0.9583 - val_loss: 0.3396 - val_accuracy: 1.0000\n",
      "\n",
      "Epoch 00077: val_loss did not improve from 0.33958\n",
      "Epoch 78/100\n",
      " - 0s - loss: 0.3512 - accuracy: 0.9688 - val_loss: 0.3349 - val_accuracy: 1.0000\n",
      "\n",
      "Epoch 00078: val_loss improved from 0.33958 to 0.33494, saving model to model/iris_deep.hdf5\n",
      "Epoch 79/100\n",
      " - 0s - loss: 0.3475 - accuracy: 0.9583 - val_loss: 0.3283 - val_accuracy: 1.0000\n",
      "\n",
      "Epoch 00079: val_loss improved from 0.33494 to 0.32829, saving model to model/iris_deep.hdf5\n",
      "Epoch 80/100\n",
      " - 0s - loss: 0.3445 - accuracy: 0.9583 - val_loss: 0.3238 - val_accuracy: 1.0000\n",
      "\n",
      "Epoch 00080: val_loss improved from 0.32829 to 0.32383, saving model to model/iris_deep.hdf5\n",
      "Epoch 81/100\n",
      " - 0s - loss: 0.3402 - accuracy: 0.9479 - val_loss: 0.3245 - val_accuracy: 1.0000\n",
      "\n",
      "Epoch 00081: val_loss did not improve from 0.32383\n",
      "Epoch 82/100\n",
      " - 0s - loss: 0.3377 - accuracy: 0.9688 - val_loss: 0.3233 - val_accuracy: 1.0000\n",
      "\n",
      "Epoch 00082: val_loss improved from 0.32383 to 0.32332, saving model to model/iris_deep.hdf5\n",
      "Epoch 83/100\n",
      " - 0s - loss: 0.3345 - accuracy: 0.9688 - val_loss: 0.3205 - val_accuracy: 1.0000\n",
      "\n",
      "Epoch 00083: val_loss improved from 0.32332 to 0.32053, saving model to model/iris_deep.hdf5\n",
      "Epoch 84/100\n",
      " - 0s - loss: 0.3311 - accuracy: 0.9688 - val_loss: 0.3176 - val_accuracy: 1.0000\n",
      "\n",
      "Epoch 00084: val_loss improved from 0.32053 to 0.31760, saving model to model/iris_deep.hdf5\n",
      "Epoch 85/100\n",
      " - 0s - loss: 0.3280 - accuracy: 0.9688 - val_loss: 0.3144 - val_accuracy: 1.0000\n",
      "\n",
      "Epoch 00085: val_loss improved from 0.31760 to 0.31445, saving model to model/iris_deep.hdf5\n",
      "Epoch 86/100\n",
      " - 0s - loss: 0.3243 - accuracy: 0.9688 - val_loss: 0.3046 - val_accuracy: 1.0000\n",
      "\n",
      "Epoch 00086: val_loss improved from 0.31445 to 0.30458, saving model to model/iris_deep.hdf5\n",
      "Epoch 87/100\n",
      " - 0s - loss: 0.3235 - accuracy: 0.9583 - val_loss: 0.2974 - val_accuracy: 1.0000\n",
      "\n",
      "Epoch 00087: val_loss improved from 0.30458 to 0.29743, saving model to model/iris_deep.hdf5\n",
      "Epoch 88/100\n",
      " - 0s - loss: 0.3198 - accuracy: 0.9583 - val_loss: 0.2973 - val_accuracy: 1.0000\n",
      "\n",
      "Epoch 00088: val_loss improved from 0.29743 to 0.29734, saving model to model/iris_deep.hdf5\n"
     ]
    },
    {
     "name": "stdout",
     "output_type": "stream",
     "text": [
      "Epoch 89/100\n",
      " - 0s - loss: 0.3149 - accuracy: 0.9688 - val_loss: 0.2928 - val_accuracy: 1.0000\n",
      "\n",
      "Epoch 00089: val_loss improved from 0.29734 to 0.29277, saving model to model/iris_deep.hdf5\n",
      "Epoch 90/100\n",
      " - 0s - loss: 0.3115 - accuracy: 0.9688 - val_loss: 0.2924 - val_accuracy: 1.0000\n",
      "\n",
      "Epoch 00090: val_loss improved from 0.29277 to 0.29243, saving model to model/iris_deep.hdf5\n",
      "Epoch 91/100\n",
      " - 0s - loss: 0.3093 - accuracy: 0.9688 - val_loss: 0.2891 - val_accuracy: 1.0000\n",
      "\n",
      "Epoch 00091: val_loss improved from 0.29243 to 0.28907, saving model to model/iris_deep.hdf5\n",
      "Epoch 92/100\n",
      " - 0s - loss: 0.3052 - accuracy: 0.9688 - val_loss: 0.2812 - val_accuracy: 1.0000\n",
      "\n",
      "Epoch 00092: val_loss improved from 0.28907 to 0.28124, saving model to model/iris_deep.hdf5\n",
      "Epoch 93/100\n",
      " - 0s - loss: 0.3040 - accuracy: 0.9583 - val_loss: 0.2737 - val_accuracy: 1.0000\n",
      "\n",
      "Epoch 00093: val_loss improved from 0.28124 to 0.27373, saving model to model/iris_deep.hdf5\n",
      "Epoch 94/100\n",
      " - 0s - loss: 0.3017 - accuracy: 0.9583 - val_loss: 0.2713 - val_accuracy: 1.0000\n",
      "\n",
      "Epoch 00094: val_loss improved from 0.27373 to 0.27128, saving model to model/iris_deep.hdf5\n",
      "Epoch 95/100\n",
      " - 0s - loss: 0.2982 - accuracy: 0.9583 - val_loss: 0.2700 - val_accuracy: 1.0000\n",
      "\n",
      "Epoch 00095: val_loss improved from 0.27128 to 0.26999, saving model to model/iris_deep.hdf5\n",
      "Epoch 96/100\n",
      " - 0s - loss: 0.2943 - accuracy: 0.9688 - val_loss: 0.2715 - val_accuracy: 1.0000\n",
      "\n",
      "Epoch 00096: val_loss did not improve from 0.26999\n",
      "Epoch 97/100\n",
      " - 0s - loss: 0.2921 - accuracy: 0.9688 - val_loss: 0.2781 - val_accuracy: 1.0000\n",
      "\n",
      "Epoch 00097: val_loss did not improve from 0.26999\n",
      "Epoch 98/100\n",
      " - 0s - loss: 0.2912 - accuracy: 0.9375 - val_loss: 0.2840 - val_accuracy: 0.9583\n",
      "\n",
      "Epoch 00098: val_loss did not improve from 0.26999\n",
      "Epoch 99/100\n",
      " - 0s - loss: 0.2920 - accuracy: 0.9271 - val_loss: 0.2788 - val_accuracy: 0.9583\n",
      "\n",
      "Epoch 00099: val_loss did not improve from 0.26999\n",
      "Epoch 100/100\n",
      " - 0s - loss: 0.2868 - accuracy: 0.9479 - val_loss: 0.2617 - val_accuracy: 1.0000\n",
      "\n",
      "Epoch 00100: val_loss improved from 0.26999 to 0.26165, saving model to model/iris_deep.hdf5\n"
     ]
    },
    {
     "data": {
      "text/plain": [
       "<keras.callbacks.callbacks.History at 0x156af4cb248>"
      ]
     },
     "execution_count": 25,
     "metadata": {},
     "output_type": "execute_result"
    }
   ],
   "source": [
    "# 모델 학습\n",
    "model.fit(x_train, Y_encoded, epochs=100, batch_size=30, verbose=2,\n",
    "          validation_split=0.2, callbacks=[checkpointer])"
   ]
  },
  {
   "cell_type": "code",
   "execution_count": 26,
   "metadata": {},
   "outputs": [],
   "source": [
    "from keras.models import load_model\n",
    "model_deep = load_model(\"model/iris_deep.hdf5\")"
   ]
  },
  {
   "cell_type": "code",
   "execution_count": 27,
   "metadata": {},
   "outputs": [
    {
     "name": "stdout",
     "output_type": "stream",
     "text": [
      "\r",
      "30/30 [==============================] - 0s 33us/step\n"
     ]
    },
    {
     "data": {
      "text/plain": [
       "1.0"
      ]
     },
     "execution_count": 27,
     "metadata": {},
     "output_type": "execute_result"
    }
   ],
   "source": [
    "model.evaluate(x_test, keras.utils.to_categorical(y_test))[1]"
   ]
  },
  {
   "cell_type": "code",
   "execution_count": 28,
   "metadata": {},
   "outputs": [
    {
     "data": {
      "text/plain": [
       "2"
      ]
     },
     "execution_count": 28,
     "metadata": {},
     "output_type": "execute_result"
    }
   ],
   "source": [
    "model_deep.predict_classes(test_data)[0]"
   ]
  },
  {
   "cell_type": "code",
   "execution_count": 29,
   "metadata": {},
   "outputs": [
    {
     "data": {
      "text/plain": [
       "array([[0.00281011, 0.2834836 , 0.71370625]], dtype=float32)"
      ]
     },
     "execution_count": 29,
     "metadata": {},
     "output_type": "execute_result"
    }
   ],
   "source": [
    "model_deep.predict(test_data)"
   ]
  },
  {
   "cell_type": "code",
   "execution_count": 30,
   "metadata": {},
   "outputs": [
    {
     "data": {
      "text/plain": [
       "2"
      ]
     },
     "execution_count": 30,
     "metadata": {},
     "output_type": "execute_result"
    }
   ],
   "source": [
    "np.argmax(model_deep.predict(test_data)[0])"
   ]
  },
  {
   "cell_type": "code",
   "execution_count": null,
   "metadata": {},
   "outputs": [],
   "source": []
  }
 ],
 "metadata": {
  "kernelspec": {
   "display_name": "Python 3",
   "language": "python",
   "name": "python3"
  },
  "language_info": {
   "codemirror_mode": {
    "name": "ipython",
    "version": 3
   },
   "file_extension": ".py",
   "mimetype": "text/x-python",
   "name": "python",
   "nbconvert_exporter": "python",
   "pygments_lexer": "ipython3",
   "version": "3.7.7"
  }
 },
 "nbformat": 4,
 "nbformat_minor": 4
}
